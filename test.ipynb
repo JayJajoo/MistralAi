{
 "cells": [
  {
   "cell_type": "code",
   "execution_count": 1,
   "metadata": {},
   "outputs": [
    {
     "name": "stdout",
     "output_type": "stream",
     "text": [
      "588\n"
     ]
    }
   ],
   "source": [
    "print(len(\"\"\"\n",
    "    You are an AI assistant tasked with extracting accurate key insights from the provided text.  \n",
    "    Strictly refer only to the given PDF content and do not generate any information that is not explicitly stated in it.  \n",
    "\n",
    "    ### Instructions:\n",
    "    1. Base your responses solely on the provided text.\n",
    "    2. If the information is not present, state: \"The document does not contain this information.\"\n",
    "    3. Do not make assumptions or infer details beyond the given content.\n",
    "    4. Extract key insights concisely and accurately.  \n",
    "\n",
    "    ### Provided Text:\n",
    "\n",
    "    ### Queries to Answer:\n",
    "    \"\"\"))"
   ]
  },
  {
   "cell_type": "code",
   "execution_count": null,
   "metadata": {},
   "outputs": [],
   "source": []
  }
 ],
 "metadata": {
  "kernelspec": {
   "display_name": "Python 3",
   "language": "python",
   "name": "python3"
  },
  "language_info": {
   "codemirror_mode": {
    "name": "ipython",
    "version": 3
   },
   "file_extension": ".py",
   "mimetype": "text/x-python",
   "name": "python",
   "nbconvert_exporter": "python",
   "pygments_lexer": "ipython3",
   "version": "3.9.0"
  }
 },
 "nbformat": 4,
 "nbformat_minor": 2
}
